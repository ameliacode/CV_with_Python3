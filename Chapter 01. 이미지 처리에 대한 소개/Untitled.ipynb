{
 "cells": [
  {
   "cell_type": "markdown",
   "metadata": {},
   "source": [
    "## 📸 이미지 처리에 대한 소개 - scikit-image\n",
    "### scikit-image란?\n",
    "skimage는 Pillow에 비해 픽셀 값이 0,1 사이에 있는 float 이미지에서도 동작한다.  \n",
    "보다 더 많은 기능을 제공하는 특징을 지니고 있다.  \n",
    "\n",
    "#### 🛠 Window에서 Pillow 설치하기\n",
    "명령 프롬프트 혹은 Powershell에 아래와 같이 작성한다.\n",
    "```\n",
    "pip3 install scikit-image\n",
    "```\n",
    "#### 🛠 Ubuntu에서 Pillow 설치하기\n",
    "터미널(CTRL+ALT+T)에서 아래와 같이 작성한다\n",
    "```\n",
    "python3 -m pip install -U scikit-image\n",
    "python3 -m pip install scipy\n",
    "python3 -m pip install matplotlib\n",
    "```\n",
    "\n",
    "### scikit-image 시작하기"
   ]
  },
  {
   "cell_type": "markdown",
   "metadata": {},
   "source": [
    "#### 이미지 읽기"
   ]
  },
  {
   "cell_type": "code",
   "execution_count": null,
   "metadata": {},
   "outputs": [],
   "source": []
  },
  {
   "cell_type": "code",
   "execution_count": null,
   "metadata": {},
   "outputs": [],
   "source": []
  },
  {
   "cell_type": "code",
   "execution_count": null,
   "metadata": {},
   "outputs": [],
   "source": []
  },
  {
   "cell_type": "code",
   "execution_count": null,
   "metadata": {},
   "outputs": [],
   "source": []
  },
  {
   "cell_type": "code",
   "execution_count": null,
   "metadata": {},
   "outputs": [],
   "source": []
  },
  {
   "cell_type": "code",
   "execution_count": null,
   "metadata": {},
   "outputs": [],
   "source": []
  },
  {
   "cell_type": "code",
   "execution_count": null,
   "metadata": {},
   "outputs": [],
   "source": []
  },
  {
   "cell_type": "code",
   "execution_count": null,
   "metadata": {},
   "outputs": [],
   "source": []
  }
 ],
 "metadata": {
  "kernelspec": {
   "display_name": "Python 3",
   "language": "python",
   "name": "python3"
  },
  "language_info": {
   "codemirror_mode": {
    "name": "ipython",
    "version": 3
   },
   "file_extension": ".py",
   "mimetype": "text/x-python",
   "name": "python",
   "nbconvert_exporter": "python",
   "pygments_lexer": "ipython3",
   "version": "3.8.3"
  }
 },
 "nbformat": 4,
 "nbformat_minor": 4
}
