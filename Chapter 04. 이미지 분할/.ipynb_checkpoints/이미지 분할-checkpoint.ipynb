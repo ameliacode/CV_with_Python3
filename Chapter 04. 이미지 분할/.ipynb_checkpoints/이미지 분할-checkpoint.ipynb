{
 "cells": [
  {
   "cell_type": "markdown",
   "metadata": {},
   "source": [
    "## 📸 분할: 이미지 더 이해하기\n",
    "### 이미지 분할이란?\n",
    "이미지를 의미 있는 젇보를 개별적으로 담고 있는 작은 영역으로 나눠, 전체 내용을 이해하는데 도움을 주는 과정이다.\n",
    "\n",
    "### 윤곽선 검출\n",
    "윤곽선 검출은 각 병의 경계를 따라 닫힌 류프를 형성하려고 한다."
   ]
  },
  {
   "cell_type": "code",
   "execution_count": 1,
   "metadata": {},
   "outputs": [],
   "source": [
    "from skimage import measure\n",
    "from skimage.io import imread\n",
    "from skimage.color import rgb2gray\n",
    "from skimage.filters import sobel\n",
    "import matplotlib.pyplot as plt"
   ]
  },
  {
   "cell_type": "code",
   "execution_count": 4,
   "metadata": {},
   "outputs": [],
   "source": [
    "img = imread(\"contours.png\")\n",
    "img_gray = rgb2gray(img)\n",
    "img_edges = sobel(img_gray)\n",
    "contours = measure.find_contours(img_edges, 0.2)"
   ]
  },
  {
   "cell_type": "code",
   "execution_count": 5,
   "metadata": {},
   "outputs": [
    {
     "data": {
      "image/png": "[encoded data removed]",
      "text/plain": [
       "<Figure size 432x288 with 1 Axes>"
      ]
     },
     "metadata": {},
     "output_type": "display_data"
    }
   ],
   "source": [
    "fig ,ax = plt.subplots()\n",
    "ax.imshow(img_edges, interpolation=\"nearest\", cmap=plt.cm.gray)\n",
    "for n, contour in enumerate(contours):\n",
    "    ax.plot(contour[:,1], contour[:,0],linewidth=2)\n",
    "ax.axis(\"image\")\n",
    "ax.set_xticks([])\n",
    "ax.set_yticks([])\n",
    "plt.show()"
   ]
  },
  {
   "cell_type": "markdown",
   "metadata": {},
   "source": [
    "### Watershed 알고리즘\n",
    "실세계와 유사점을 갖는 것이 특징, 분화구가 많은 지형에 각기의 다른 색의 물을 채워넣는다고 가정하면 된다.  \n",
    "각 local gradient에 최소값(마커)를 통해 고유색을 할당 후 인접 마커 경계에 도달할 때까지 색을 채운다.   \n",
    "1. 분할할 이미지를 읽는다\n",
    "2. Grayscale 변환\n",
    "3. img_as_ubyte()를 통해 부호 없는 int로 변환\n",
    "4. 이미지 local gradient를 계산한다.\n",
    "5. Watershed 알고리즘을 적용한다."
   ]
  },
  {
   "cell_type": "code",
   "execution_count": 18,
   "metadata": {},
   "outputs": [
    {
     "name": "stderr",
     "output_type": "stream",
     "text": [
      "C:\\Users\\user\\anaconda3\\lib\\site-packages\\skimage\\morphology\\_deprecated.py:5: skimage_deprecation: Function ``watershed`` is deprecated and will be removed in version 0.19. Use ``skimage.segmentation.watershed`` instead.\n",
      "  def watershed(image, markers=None, connectivity=1, offset=None, mask=None,\n"
     ]
    }
   ],
   "source": [
    "from scipy import ndimage as ndi\n",
    "from skimage.morphology import watershed, disk\n",
    "from skimage import data\n",
    "from skimage.io import imread\n",
    "from skimage.filters import rank\n",
    "from skimage.color import rgb2gray\n",
    "from skimage.util import img_as_ubyte\n",
    "img = data.astronaut()\n",
    "img_gray = rgb2gray(img)\n",
    "image = img_as_ubyte(img_gray)\n",
    "markers = rank.gradient(image, disk(5)) < 20\n",
    "gradient = rank.gradient(image,disk(2))\n",
    "labels = watershed(gradient, markers)"
   ]
  },
  {
   "cell_type": "markdown",
   "metadata": {},
   "source": [
    "### Super pixel\n",
    "픽셀들의 중복성을 없애개 위해 가까이 있는 픽셀들을 모아 하나의 슈퍼픽셀을 이룬다. 알고리즘의 시작점으로 활용되어, 알고리즘의 효율성을 높인다."
   ]
  },
  {
   "cell_type": "code",
   "execution_count": 13,
   "metadata": {},
   "outputs": [],
   "source": [
    "from skimage import segmentation, color\n",
    "from skimage.io import imread\n",
    "from skimage.future import graph\n",
    "from matplotlib import pyplot as plt\n",
    "import skimage.io as io"
   ]
  },
  {
   "cell_type": "code",
   "execution_count": 27,
   "metadata": {
    "scrolled": true
   },
   "outputs": [
    {
     "name": "stderr",
     "output_type": "stream",
     "text": [
      "<ipython-input-27-851cfc30dfc7>:2: FutureWarning: skimage.measure.label's indexing starts from 0. In future version it will start from 1. To disable this warning, explicitely set the `start_label` parameter to 1.\n",
      "  img_segments = segmentation.slic(img, compactness=20, n_segments=500)\n",
      "<ipython-input-27-851cfc30dfc7>:3: FutureWarning: The new recommended value for bg_label is 0. Until version 0.19, the default bg_label value is -1. From version 0.19, the bg_label default value will be 0. To avoid this warning, please explicitly set bg_label value.\n",
      "  superpixels = color.label2rgb(img_segments, img, kind=\"avg\")\n"
     ]
    }
   ],
   "source": [
    "img = imread(\"original.png\")\n",
    "img_segments = segmentation.slic(img, compactness=20, n_segments=500)\n",
    "superpixels = color.label2rgb(img_segments, img, kind=\"avg\")"
   ]
  },
  {
   "cell_type": "code",
   "execution_count": 28,
   "metadata": {},
   "outputs": [
    {
     "data": {
      "image/png": "[encoded data removed]",
      "text/plain": [
       "<Figure size 432x288 with 1 Axes>"
      ]
     },
     "metadata": {
      "needs_background": "light"
     },
     "output_type": "display_data"
    }
   ],
   "source": [
    "io.imshow(superpixels)\n",
    "io.show()"
   ]
  },
  {
   "cell_type": "markdown",
   "metadata": {},
   "source": [
    "### 정규화된 그래프 컷\n",
    "이미지의 각 픽셀이 노드로 처리된다. 각 픽셀을 이미지에 있는 물체로 레이블링할 수 있는 특징을 지니고 있으며 어느 연결선을 잘라야할지 결정한다.\n",
    "1. 이미지를 읽는다.\n",
    "2. 색상 값에 K-mean clustering을 수행(SLIC method)\n",
    "3. clustering된 픽셀을 사용해 가중 그래프를 만든다. 각 연결선의 가중치는 두 영역 간 얼마나 유사한지 결정한다.\n",
    "4. 마지막 단계에서 얻은 그래프에 정규화된 그래프 컷 기술 사용"
   ]
  },
  {
   "cell_type": "code",
   "execution_count": 29,
   "metadata": {},
   "outputs": [],
   "source": [
    "from skimage import data, segmentation, color\n",
    "from skimage.io import imread\n",
    "from skimage import data\n",
    "from skimage.future import graph"
   ]
  },
  {
   "cell_type": "code",
   "execution_count": 32,
   "metadata": {},
   "outputs": [
    {
     "name": "stderr",
     "output_type": "stream",
     "text": [
      "<ipython-input-32-868beb5a5ac3>:2: FutureWarning: skimage.measure.label's indexing starts from 0. In future version it will start from 1. To disable this warning, explicitely set the `start_label` parameter to 1.\n",
      "  img_segments = segmentation.slic(img, compactness=30, n_segments=200)\n",
      "<ipython-input-32-868beb5a5ac3>:3: FutureWarning: The new recommended value for bg_label is 0. Until version 0.19, the default bg_label value is -1. From version 0.19, the bg_label default value will be 0. To avoid this warning, please explicitly set bg_label value.\n",
      "  out1 = color.label2rgb(img_segments, img, kind=\"avg\")\n",
      "<ipython-input-32-868beb5a5ac3>:6: FutureWarning: The new recommended value for bg_label is 0. Until version 0.19, the default bg_label value is -1. From version 0.19, the bg_label default value will be 0. To avoid this warning, please explicitly set bg_label value.\n",
      "  normalized_cut_segments = color.label2rgb(img_cuts, img, kind=\"avg\")\n"
     ]
    }
   ],
   "source": [
    "img = data.astronaut()\n",
    "img_segments = segmentation.slic(img, compactness=30, n_segments=200)        #k-mean clustering\n",
    "out1 = color.label2rgb(img_segments, img, kind=\"avg\")\n",
    "segment_graph = graph.rag_mean_color(img, img_segments, mode=\"similarity\")   #그래프 생성 by 픽셀 색상 간 유클리드 거리 & 유사성\n",
    "img_cuts = graph.cut_normalized(img_segments, segment_graph)\n",
    "normalized_cut_segments = color.label2rgb(img_cuts, img, kind=\"avg\")"
   ]
  },
  {
   "cell_type": "code",
   "execution_count": 33,
   "metadata": {},
   "outputs": [
    {
     "data": {
      "text/plain": [
       "<function skimage.io._io.show()>"
      ]
     },
     "execution_count": 33,
     "metadata": {},
     "output_type": "execute_result"
    },
    {
     "data": {
      "image/png": "[encoded data removed]",
      "text/plain": [
       "<Figure size 432x288 with 1 Axes>"
      ]
     },
     "metadata": {
      "needs_background": "light"
     },
     "output_type": "display_data"
    }
   ],
   "source": [
    "io.imshow(normalized_cut_segments)\n",
    "io.show()"
   ]
  },
  {
   "cell_type": "markdown",
   "metadata": {},
   "source": [
    "이미지 종류에 대한 정보 제한 → 파라미터를 수동으로 조절하여 병목 현상 완화  \n",
    "자동으로 조절하기 위해 연구자들은 머신러닝을 사용하여 해결"
   ]
  }
 ],
 "metadata": {
  "kernelspec": {
   "display_name": "Python 3",
   "language": "python",
   "name": "python3"
  },
  "language_info": {
   "codemirror_mode": {
    "name": "ipython",
    "version": 3
   },
   "file_extension": ".py",
   "mimetype": "text/x-python",
   "name": "python",
   "nbconvert_exporter": "python",
   "pygments_lexer": "ipython3",
   "version": "3.8.3"
  }
 },
 "nbformat": 4,
 "nbformat_minor": 4
}
